{
 "cells": [
  {
   "cell_type": "code",
   "execution_count": 7,
   "metadata": {},
   "outputs": [],
   "source": [
    "import pandas as pd\n",
    "import requests\n",
    "from bs4 import BeautifulSoup\n",
    "import re\n",
    "import json\n",
    "from rag_response import *\n",
    "from deep_translator import GoogleTranslator\n"
   ]
  },
  {
   "cell_type": "markdown",
   "metadata": {},
   "source": [
    "To use this notebook you have to implement a new function of extract_data_from_artifact since it only applies to the data we are using right now.. The function should output a dictionary with the following keys: categories and details. "
   ]
  },
  {
   "cell_type": "code",
   "execution_count": 13,
   "metadata": {},
   "outputs": [],
   "source": [
    "all_artifacts_id = [\"847\", \"598\", \"597\"]\n",
    "all_artifacts_name = [\"Sirabis\", \"NesAmun\", \"DjedKhonsu\"]"
   ]
  },
  {
   "cell_type": "code",
   "execution_count": 23,
   "metadata": {},
   "outputs": [],
   "source": [
    "def translate_into_language(details, categories, source, target):\n",
    "    translated_details = GoogleTranslator(source=source, target=target).translate(details)\n",
    "    translated_categories = GoogleTranslator(source=source, target=target).translate(categories)\n",
    "    return translated_details, translated_categories\n",
    "\n",
    "\n",
    "translated = GoogleTranslator(source='en', target='ar').translate(\"keep it up, you are awesome\")"
   ]
  },
  {
   "cell_type": "code",
   "execution_count": 24,
   "metadata": {},
   "outputs": [],
   "source": [
    "def all_artifacts_to_df(all_artifacts_id, all_artifacts_name):\n",
    "    df_columns = ['artifact_id', 'artifact_name','categories_en', 'details_en', 'categories_ar', 'details_ar', \"categories_fr\", \"details_fr\"]\n",
    "    df = pd.DataFrame(columns=df_columns)\n",
    "    for artifact_id, artifact_name in zip(all_artifacts_id, all_artifacts_name):\n",
    "        artifact_info = extract_data_from_artifact(artifact_id)\n",
    "        artifact_categories = artifact_info[\"categories\"]\n",
    "        artifact_details = artifact_info[\"details\"]\n",
    "        artifact_details_ar, artifact_categories_ar = translate_into_language(artifact_details, artifact_categories, \"en\", \"ar\")\n",
    "        artifact_details_fr, artifact_categories_fr = translate_into_language(artifact_details, artifact_categories, \"en\", \"fr\")\n",
    "        artifact_dict = {\n",
    "            \"artifact_id\": artifact_id,\n",
    "            \"artifact_name\": artifact_name,\n",
    "            \"categories_en\": artifact_categories,\n",
    "            \"details_en\": artifact_details,\n",
    "            \"categories_ar\": artifact_categories_ar,\n",
    "            \"details_ar\": artifact_details_ar,\n",
    "            \"categories_fr\": artifact_categories_fr,\n",
    "            \"details_fr\": artifact_details_fr\n",
    "        }\n",
    "        df.loc[len(df)] = artifact_dict\n",
    "    return df"
   ]
  },
  {
   "cell_type": "code",
   "execution_count": 25,
   "metadata": {},
   "outputs": [],
   "source": [
    "df = all_artifacts_to_df(all_artifacts_id, all_artifacts_name)"
   ]
  },
  {
   "cell_type": "code",
   "execution_count": 27,
   "metadata": {},
   "outputs": [],
   "source": [
    "df.to_csv(\"artifacts.csv\", index=False)"
   ]
  },
  {
   "cell_type": "code",
   "execution_count": 30,
   "metadata": {},
   "outputs": [],
   "source": [
    "df = pd.read_csv(\"artifacts.csv\")\n",
    "df.index = df.artifact_name"
   ]
  },
  {
   "cell_type": "code",
   "execution_count": 36,
   "metadata": {},
   "outputs": [
    {
     "data": {
      "text/plain": [
       "artifact_id                                                    847\n",
       "artifact_name                                              Sirabis\n",
       "categories_en    Category: Sculpture in the round, statues, hum...\n",
       "details_en       Description Head of the god Serapis, with curl...\n",
       "categories_ar    الفئة: النحت الدائري، تماثيل، تماثيل بشرية/آله...\n",
       "details_ar       الوصف رأس الإله سيرابيس، ذو الشعر المجعد، والل...\n",
       "categories_fr    Catégorie : Sculpture en ronde-bosse, statues,...\n",
       "details_fr       Description Tête du dieu Sérapis, aux cheveux ...\n",
       "Name: Sirabis, dtype: object"
      ]
     },
     "execution_count": 36,
     "metadata": {},
     "output_type": "execute_result"
    }
   ],
   "source": [
    "df.loc[\"Sirabis\"] "
   ]
  },
  {
   "cell_type": "code",
   "execution_count": null,
   "metadata": {},
   "outputs": [],
   "source": []
  }
 ],
 "metadata": {
  "kernelspec": {
   "display_name": "Python 3",
   "language": "python",
   "name": "python3"
  },
  "language_info": {
   "codemirror_mode": {
    "name": "ipython",
    "version": 3
   },
   "file_extension": ".py",
   "mimetype": "text/x-python",
   "name": "python",
   "nbconvert_exporter": "python",
   "pygments_lexer": "ipython3",
   "version": "3.10.0"
  }
 },
 "nbformat": 4,
 "nbformat_minor": 2
}
